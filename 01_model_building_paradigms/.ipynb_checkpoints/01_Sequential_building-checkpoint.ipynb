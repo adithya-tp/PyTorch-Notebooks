{
 "cells": [
  {
   "cell_type": "markdown",
   "metadata": {},
   "source": [
    "    This notebook contains my notes as I followed along with the following video tutorial (shoutout to DeepLizard - very cool channel)\n",
    "    [https://www.youtube.com/watch?v=bH9Nkg7G8S0]"
   ]
  },
  {
   "cell_type": "markdown",
   "metadata": {},
   "source": [
    "## Imports and Downloading Fashion MNIST"
   ]
  },
  {
   "cell_type": "code",
   "execution_count": 1,
   "metadata": {},
   "outputs": [],
   "source": [
    "import torch\n",
    "import torch.nn as nn\n",
    "\n",
    "import torchvision\n",
    "import torchvision.transforms as transforms\n",
    "\n",
    "import matplotlib.pyplot as plt\n",
    "import math\n",
    "\n",
    "from collections import OrderedDict\n",
    "\n",
    "\"\"\"\n",
    "    To make sure that the output doesn't wrap\n",
    "    when we print out the tensor output.\n",
    "\"\"\"\n",
    "torch.set_printoptions(linewidth=100)"
   ]
  },
  {
   "cell_type": "code",
   "execution_count": 2,
   "metadata": {},
   "outputs": [],
   "source": [
    "train_set = torchvision.datasets.FashionMNIST(\n",
    "    root='./data',\n",
    "    train=True,\n",
    "    download=True,\n",
    "    # The images start off as PIL images, but we\n",
    "    # need to transform them to pytorch tensors\n",
    "    # for our pytorch nn models to accept them\n",
    "    transform=transforms.Compose([\n",
    "        transforms.ToTensor()\n",
    "    ])\n",
    ")"
   ]
  },
  {
   "cell_type": "markdown",
   "metadata": {},
   "source": [
    "## Inspecting an element from the downloaded dataset"
   ]
  },
  {
   "cell_type": "code",
   "execution_count": 3,
   "metadata": {},
   "outputs": [
    {
     "data": {
      "text/plain": [
       "torch.Size([1, 28, 28])"
      ]
     },
     "execution_count": 3,
     "metadata": {},
     "output_type": "execute_result"
    }
   ],
   "source": [
    "# lets examine a training data point's dimensions\n",
    "image, label = train_set[0]\n",
    "image.shape"
   ]
  },
  {
   "cell_type": "code",
   "execution_count": 4,
   "metadata": {},
   "outputs": [
    {
     "data": {
      "text/plain": [
       "<matplotlib.image.AxesImage at 0x7faa9d627ac8>"
      ]
     },
     "execution_count": 4,
     "metadata": {},
     "output_type": "execute_result"
    },
    {
     "data": {
      "image/png": "[encoded data removed]",
      "text/plain": [
       "<Figure size 432x288 with 1 Axes>"
      ]
     },
     "metadata": {
      "needs_background": "light"
     },
     "output_type": "display_data"
    }
   ],
   "source": [
    "\"\"\"\n",
    "Lets display this first image that we stored in the var \"image\".\n",
    "In order to do this, we must first remove all but the height and width\n",
    "dimensions from the image. Here the only additional dimension is \n",
    "the initial \"color channels\" dimension. So we use pytorch's squeeze()\n",
    "utility to remove that first dimension from the image tensor.\n",
    "\"\"\"\n",
    "plt.imshow(image.squeeze(), cmap='gray')"
   ]
  },
  {
   "cell_type": "code",
   "execution_count": 5,
   "metadata": {},
   "outputs": [
    {
     "data": {
      "text/plain": [
       "['T-shirt/top',\n",
       " 'Trouser',\n",
       " 'Pullover',\n",
       " 'Dress',\n",
       " 'Coat',\n",
       " 'Sandal',\n",
       " 'Shirt',\n",
       " 'Sneaker',\n",
       " 'Bag',\n",
       " 'Ankle boot']"
      ]
     },
     "execution_count": 5,
     "metadata": {},
     "output_type": "execute_result"
    }
   ],
   "source": [
    "# all the unique labels  we have in the training dataset.\n",
    "train_set.classes"
   ]
  },
  {
   "cell_type": "markdown",
   "metadata": {},
   "source": [
    "## Extract some variables required to build our models"
   ]
  },
  {
   "cell_type": "code",
   "execution_count": 6,
   "metadata": {},
   "outputs": [
    {
     "data": {
      "text/plain": [
       "784"
      ]
     },
     "execution_count": 6,
     "metadata": {},
     "output_type": "execute_result"
    }
   ],
   "source": [
    "\"\"\"\n",
    "    To construct our nn models, we first need to know \n",
    "    how many input nodes would be required. Concretely, this is the\n",
    "    number of pixels. Further, you can retrieve this info\n",
    "    using pytorch's numel() function (returns the total number\n",
    "    of elements in the input tensor).\n",
    "\"\"\"\n",
    "in_features = image.numel()\n",
    "in_features"
   ]
  },
  {
   "cell_type": "code",
   "execution_count": 7,
   "metadata": {},
   "outputs": [
    {
     "data": {
      "text/plain": [
       "392"
      ]
     },
     "execution_count": 7,
     "metadata": {},
     "output_type": "execute_result"
    }
   ],
   "source": [
    "\"\"\"\n",
    "    Let's set the number of nodes for the hidden layer. Since\n",
    "    we'd like to extract information, we should have lesser nodes\n",
    "    in this layer than the input layer. Half the number of nodes \n",
    "    of the input layer is probably a good place to start.\n",
    "\"\"\"\n",
    "out_features = in_features // 2\n",
    "out_features"
   ]
  },
  {
   "cell_type": "code",
   "execution_count": 8,
   "metadata": {},
   "outputs": [
    {
     "data": {
      "text/plain": [
       "10"
      ]
     },
     "execution_count": 8,
     "metadata": {},
     "output_type": "execute_result"
    }
   ],
   "source": [
    "\"\"\"\n",
    "    And finally the number of output nodes.\n",
    "\"\"\"\n",
    "out_classes = len(train_set.classes)\n",
    "out_classes"
   ]
  },
  {
   "cell_type": "markdown",
   "metadata": {},
   "source": [
    "# Constructing models on the fly: PyTorch's Sequential Module"
   ]
  },
  {
   "cell_type": "markdown",
   "metadata": {},
   "source": [
    "## Method 1: Building using pytorch's \"Sequential\" class (normal)"
   ]
  },
  {
   "cell_type": "code",
   "execution_count": 9,
   "metadata": {},
   "outputs": [
    {
     "data": {
      "text/plain": [
       "Sequential(\n",
       "  (0): Flatten()\n",
       "  (1): Linear(in_features=784, out_features=392, bias=True)\n",
       "  (2): Linear(in_features=392, out_features=10, bias=True)\n",
       ")"
      ]
     },
     "execution_count": 9,
     "metadata": {},
     "output_type": "execute_result"
    }
   ],
   "source": [
    "\"\"\"\n",
    "    We've got all the info to construct our sequential model.\n",
    "    So lets do it!\n",
    "    \n",
    "    The key takeaway here is the start_dim parameter while\n",
    "    flattening a input tensor batch. We're essentially\n",
    "    saying that we'd like to starting flattening the batch\n",
    "    starting at the ith index (remember its zero based indexing, \n",
    "    so start_dim=1 refers to the second index). \n",
    "    \n",
    "    We are telling pytorch to leave the batch dimension alone \n",
    "    and flatten everything else (the color_channels, height and width,\n",
    "    that is, whatever makes up an individual image tensor) into a \n",
    "    single long vector. If we didn't do this all the images in the\n",
    "    batch would make a really long vector, that our network cannot \n",
    "    accept.\n",
    "    \n",
    "    In our case, the flattened tensor's shape=(batch_size, image_dim),\n",
    "    one row for each image tensor in the batch of images that we\n",
    "    pass to our network. \n",
    "    \n",
    "    It is implied that our network excepts the data to be in batch\n",
    "    (else the flatten op could have unexpected results), even if\n",
    "    you're passing in a single image.\n",
    "\"\"\"\n",
    "\n",
    "sequential_net = nn.Sequential(\n",
    "    nn.Flatten(start_dim=1),\n",
    "    nn.Linear(in_features, out_features),\n",
    "    nn.Linear(out_features, out_classes)\n",
    ")\n",
    "\n",
    "sequential_net"
   ]
  },
  {
   "cell_type": "code",
   "execution_count": 10,
   "metadata": {},
   "outputs": [
    {
     "data": {
      "text/plain": [
       "Linear(in_features=784, out_features=392, bias=True)"
      ]
     },
     "execution_count": 10,
     "metadata": {},
     "output_type": "execute_result"
    }
   ],
   "source": [
    "sequential_net[1]"
   ]
  },
  {
   "cell_type": "code",
   "execution_count": 11,
   "metadata": {},
   "outputs": [
    {
     "data": {
      "text/plain": [
       "tensor([[-0.0012, -0.2318,  0.1535,  0.0070,  0.0771,  0.2818,  0.0695,  0.2281,  0.0927, -0.1405]],\n",
       "       grad_fn=<AddmmBackward>)"
      ]
     },
     "execution_count": 11,
     "metadata": {},
     "output_type": "execute_result"
    }
   ],
   "source": [
    "\"\"\"\n",
    "    Let's do a forward pass through our network using a single image.\n",
    "\n",
    "    The unsqueeze is necessary because of the last point we \n",
    "    mentioned when building sequential_net.\n",
    "\"\"\"\n",
    "image = image.unsqueeze(0)    # dimension is now (1, 1, 28, 28)\n",
    "\n",
    "\"\"\"\n",
    "    We can see the predictions from our network, which is obviously\n",
    "    quite noisy and bad, since the network has not been trained.\n",
    "\"\"\"\n",
    "sequential_net(image)"
   ]
  },
  {
   "cell_type": "markdown",
   "metadata": {},
   "source": [
    "## Method 2: Passing in an Ordered Dictionary of layers to the Sequential Module"
   ]
  },
  {
   "cell_type": "code",
   "execution_count": 12,
   "metadata": {},
   "outputs": [
    {
     "data": {
      "text/plain": [
       "Sequential(\n",
       "  (flat): Flatten()\n",
       "  (hidden): Linear(in_features=784, out_features=392, bias=True)\n",
       "  (output): Linear(in_features=392, out_features=10, bias=True)\n",
       ")"
      ]
     },
     "execution_count": 12,
     "metadata": {},
     "output_type": "execute_result"
    }
   ],
   "source": [
    "\"\"\"\n",
    "    When you build your model this way, you will get to give\n",
    "    each layer your own name (each of which have to be unique).\n",
    "    This enables you to access different layers using the names\n",
    "    that you give them.\n",
    "\"\"\"\n",
    "\n",
    "# Building the ordered dictionary of layers.\n",
    "layers = OrderedDict([\n",
    "    ('flat', nn.Flatten(start_dim=1)),\n",
    "    ('hidden', nn.Linear(in_features, out_features)),\n",
    "    ('output', nn.Linear(out_features, out_classes))\n",
    "])\n",
    "\n",
    "ordered_dict_net = nn.Sequential(layers)\n",
    "ordered_dict_net"
   ]
  },
  {
   "cell_type": "code",
   "execution_count": 13,
   "metadata": {},
   "outputs": [
    {
     "data": {
      "text/plain": [
       "tensor([[ 0.1272,  0.0492,  0.0481,  0.0970,  0.0280, -0.1684,  0.1653,  0.1122, -0.0244,  0.0420]],\n",
       "       grad_fn=<AddmmBackward>)"
      ]
     },
     "execution_count": 13,
     "metadata": {},
     "output_type": "execute_result"
    }
   ],
   "source": [
    "# passing in the image (we don't need to unsqueeze here again)\n",
    "ordered_dict_net(image)\n",
    "\n",
    "# Note: You could've got both the above networks to give the same\n",
    "#       if you set SAME seed before creating either model, using\n",
    "#       \"torch.manual_seed(50)\". Ofcourse, you could set this seed\n",
    "#       value to whatever you want it be."
   ]
  },
  {
   "cell_type": "markdown",
   "metadata": {},
   "source": [
    "## Method 3: Adding modules to sequential object one by one after creating sequential object"
   ]
  },
  {
   "cell_type": "code",
   "execution_count": 14,
   "metadata": {},
   "outputs": [
    {
     "data": {
      "text/plain": [
       "Sequential(\n",
       "  (flat): Flatten()\n",
       "  (hidden): Linear(in_features=784, out_features=392, bias=True)\n",
       "  (output): Linear(in_features=392, out_features=10, bias=True)\n",
       ")"
      ]
     },
     "execution_count": 14,
     "metadata": {},
     "output_type": "execute_result"
    }
   ],
   "source": [
    "\"\"\"\n",
    "    A third way of going about constructing the model using the \n",
    "    sequential api, is to \"add_modules\" / layers after creating your\n",
    "    sequential object.\n",
    "\"\"\"\n",
    "\n",
    "add_modules_net = nn.Sequential()\n",
    "add_modules_net.add_module('flat', nn.Flatten(start_dim=1))\n",
    "add_modules_net.add_module('hidden', nn.Linear(in_features, out_features))\n",
    "add_modules_net.add_module('output', nn.Linear(out_features, out_classes))\n",
    "\n",
    "add_modules_net"
   ]
  },
  {
   "cell_type": "markdown",
   "metadata": {},
   "source": [
    "## These are all just slightly different ways to build your network using the Sequential Class."
   ]
  }
 ],
 "metadata": {
  "kernelspec": {
   "display_name": "Python 3",
   "language": "python",
   "name": "python3"
  },
  "language_info": {
   "codemirror_mode": {
    "name": "ipython",
    "version": 3
   },
   "file_extension": ".py",
   "mimetype": "text/x-python",
   "name": "python",
   "nbconvert_exporter": "python",
   "pygments_lexer": "ipython3",
   "version": "3.6.10"
  }
 },
 "nbformat": 4,
 "nbformat_minor": 4
}
