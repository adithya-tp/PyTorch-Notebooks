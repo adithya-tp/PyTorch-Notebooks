{
 "cells": [
  {
   "cell_type": "code",
   "execution_count": 33,
   "metadata": {},
   "outputs": [],
   "source": [
    "import torch\n",
    "import torch.nn as nn\n",
    "from torch.autograd import Variable\n",
    "from torch.utils.data import Dataset, DataLoader\n",
    "from torch.nn.utils.rnn import pack_padded_sequence\n",
    "\n",
    "import numpy as np\n",
    "torch.set_printoptions(linewidth=100)"
   ]
  },
  {
   "cell_type": "markdown",
   "metadata": {},
   "source": [
    "## Setting up the Dataset Class"
   ]
  },
  {
   "cell_type": "code",
   "execution_count": 42,
   "metadata": {},
   "outputs": [],
   "source": [
    "class NamesDataset(Dataset):\n",
    "    def __init__(self, is_train_set):\n",
    "        filepath = 'data/sample_train.csv' if is_train_set else 'data/sample_test.csv'\n",
    "        self.data = np.genfromtxt(filepath, delimiter=',', dtype='str')\n",
    "        self.names_x = self.data[:, 0]\n",
    "        self.countries_y = self.data[:, 1]\n",
    "        \n",
    "    def __len__(self):\n",
    "        return self.data.shape[0]\n",
    "    \n",
    "    def __getitem__(self, index):\n",
    "        return self.names_x[index], self.countries_y[index]"
   ]
  },
  {
   "cell_type": "markdown",
   "metadata": {},
   "source": [
    "#### <b>Sanity checks for NamesDataset<b>"
   ]
  },
  {
   "cell_type": "code",
   "execution_count": 45,
   "metadata": {},
   "outputs": [],
   "source": [
    "# lets test if the data is being loaded correctly\n",
    "test_data_sanity_check = DataLoader(dataset=NamesDataset(is_train_set=False),\n",
    "                                     batch_size=10,\n",
    "                                     shuffle=True)"
   ]
  },
  {
   "cell_type": "code",
   "execution_count": 54,
   "metadata": {},
   "outputs": [
    {
     "name": "stdout",
     "output_type": "stream",
     "text": [
      "('Fierro', 'Baimakoff', 'Jemoitel', 'Shamon', 'Kay', 'Castro', 'Agababov', 'Carroll', 'Kettlewell', 'Yakovchenko') ('Italian', 'Russian', 'Russian', 'Arabic', 'English', 'Spanish', 'Russian', 'English', 'English', 'Russian')\n"
     ]
    }
   ],
   "source": [
    "# print out a batch of data as well to complete the sanity check\n",
    "for idx, name_country_tuple in enumerate(test_data_sanity_check):\n",
    "    print(name_country_tuple[0], name_country_tuple[1])\n",
    "    break"
   ]
  },
  {
   "cell_type": "markdown",
   "metadata": {},
   "source": []
  }
 ],
 "metadata": {
  "kernelspec": {
   "display_name": "Python 3",
   "language": "python",
   "name": "python3"
  },
  "language_info": {
   "codemirror_mode": {
    "name": "ipython",
    "version": 3
   },
   "file_extension": ".py",
   "mimetype": "text/x-python",
   "name": "python",
   "nbconvert_exporter": "python",
   "pygments_lexer": "ipython3",
   "version": "3.6.10"
  }
 },
 "nbformat": 4,
 "nbformat_minor": 4
}
