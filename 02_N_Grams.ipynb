{
  "nbformat": 4,
  "nbformat_minor": 0,
  "metadata": {
    "colab": {
      "name": "02-N-Grams.ipynb",
      "version": "0.3.2",
      "provenance": [],
      "include_colab_link": true
    },
    "kernelspec": {
      "name": "python3",
      "display_name": "Python 3"
    },
    "accelerator": "GPU"
  },
  "cells": [
    {
      "cell_type": "markdown",
      "metadata": {
        "id": "view-in-github",
        "colab_type": "text"
      },
      "source": [
        "<a href=\"https://colab.research.google.com/github/adithya-tp/PyTorch-Notebooks/blob/master/02_N_Grams.ipynb\" target=\"_parent\"><img src=\"https://colab.research.google.com/assets/colab-badge.svg\" alt=\"Open In Colab\"/></a>"
      ]
    },
    {
      "cell_type": "markdown",
      "metadata": {
        "id": "LZH8ZukD_Vtt",
        "colab_type": "text"
      },
      "source": [
        "# ***Imports and prepping up some stuff***"
      ]
    },
    {
      "cell_type": "code",
      "metadata": {
        "id": "AGNeWN9TSoDD",
        "colab_type": "code",
        "colab": {
          "base_uri": "https://localhost:8080/",
          "height": 34
        },
        "outputId": "f27cdece-3aaa-4f8b-b8c3-bbcc44bd5500"
      },
      "source": [
        "import torch\n",
        "import torch.nn as nn \n",
        "import torch.nn.functional as F\n",
        "import torch.optim as optim\n",
        "\n",
        "torch.manual_seed(1)"
      ],
      "execution_count": 17,
      "outputs": [
        {
          "output_type": "execute_result",
          "data": {
            "text/plain": [
              "<torch._C.Generator at 0x7f8d50147ed0>"
            ]
          },
          "metadata": {
            "tags": []
          },
          "execution_count": 17
        }
      ]
    },
    {
      "cell_type": "code",
      "metadata": {
        "id": "LCHu81egWp9n",
        "colab_type": "code",
        "colab": {
          "base_uri": "https://localhost:8080/",
          "height": 34
        },
        "outputId": "308fbec5-7bbb-442a-c06f-1b295f51436d"
      },
      "source": [
        "CONTEXT_SIZE = 2\n",
        "EMBEDDING_DIM = 10\n",
        "\n",
        "test_passage_list = \"\"\"When forty winters shall besiege thy brow,\n",
        "And dig deep trenches in thy beauty's field,\n",
        "Thy youth's proud livery so gazed on now,\n",
        "Will be a totter'd weed of small worth held:\n",
        "Then being asked, where all thy beauty lies,\n",
        "Where all the treasure of thy lusty days;\n",
        "To say, within thine own deep sunken eyes,\n",
        "Were an all-eating shame, and thriftless praise.\n",
        "How much more praise deserv'd thy beauty's use,\n",
        "If thou couldst answer 'This fair child of mine\n",
        "Shall sum my count, and make my old excuse,'\n",
        "Proving his beauty by succession thine!\n",
        "This were to be new made when thou art old,\n",
        "And see thy blood warm when thou feel'st it cold.\"\"\".split()\n",
        "\n",
        "# we just made a list of words split using \" \" as a delimiter.\n",
        "print(test_passage_list[:3])"
      ],
      "execution_count": 18,
      "outputs": [
        {
          "output_type": "stream",
          "text": [
            "['When', 'forty', 'winters']\n"
          ],
          "name": "stdout"
        }
      ]
    },
    {
      "cell_type": "code",
      "metadata": {
        "id": "eHhjoJfqXLMd",
        "colab_type": "code",
        "colab": {
          "base_uri": "https://localhost:8080/",
          "height": 34
        },
        "outputId": "f372eef1-2004-4f47-bc87-be6cef57d2ef"
      },
      "source": [
        "# making a list of tri-grams for training\n",
        "trigrams = [([test_passage_list[i], test_passage_list[i+1]], test_passage_list[i+2]) for i in range(len(test_passage_list) - 2)]\n",
        "print(trigrams[:3])\n",
        "\n",
        "# need to define our vocabulary which needs all the unique words in the training corpus.\n",
        "# This is just a matter of type casting test_passage_list into a set. We need to define \n",
        "# the vocab so that we can index the vocab to serve as a lookup table when retrieving \n",
        "# the embedding corresponding to a word.\n",
        "vocab = set(test_passage_list)\n",
        "vocab_index = {word:i for i, word in enumerate(vocab)}\n",
        "# print(vocab_index)"
      ],
      "execution_count": 19,
      "outputs": [
        {
          "output_type": "stream",
          "text": [
            "[(['When', 'forty'], 'winters'), (['forty', 'winters'], 'shall'), (['winters', 'shall'], 'besiege')]\n"
          ],
          "name": "stdout"
        }
      ]
    },
    {
      "cell_type": "markdown",
      "metadata": {
        "id": "5lk7I3xTemLq",
        "colab_type": "text"
      },
      "source": [
        "# ***A slight detour***\n",
        "\n",
        "  Checking if PyTorch returns multiple word embeddings if we pass a vector of indices. <br>\n",
        "  Turns out, it DOES!"
      ]
    },
    {
      "cell_type": "code",
      "metadata": {
        "id": "LQyOp0xxcnmz",
        "colab_type": "code",
        "colab": {}
      },
      "source": [
        "# just as a sanity check, let's see what happens when we pass in multiple \n",
        "# tensor wrapped indices into \"embeds\" for a basic vocab of say, 3 words.\n",
        "\n",
        "basic_vocab = {\"that's\":0, \"what\":1, \"she\":2, \"said\":3}\n",
        "basic_embeds = nn.Embedding(4, 5) # we'll make 5 dimensional embeddings\n",
        "sample_context = [\"that's\", \"she\"]"
      ],
      "execution_count": 0,
      "outputs": []
    },
    {
      "cell_type": "code",
      "metadata": {
        "id": "dTSsFj_mehuY",
        "colab_type": "code",
        "colab": {
          "base_uri": "https://localhost:8080/",
          "height": 85
        },
        "outputId": "a13b7f09-d62d-4a99-9332-42d117febde4"
      },
      "source": [
        "# let us create an lookup_tensor for the words whose embeddings we wanna look up.\n",
        "# the look up tensor is just the a vector of the indices of the words of interest \n",
        "# wrapped in a PyTorch Tensor.\n",
        "\n",
        "lookup_tensor = torch.tensor([basic_vocab[word] for word in sample_context])\n",
        "print(lookup_tensor)\n",
        "sample_embeddings = basic_embeds(lookup_tensor)\n",
        "print(sample_embeddings)"
      ],
      "execution_count": 21,
      "outputs": [
        {
          "output_type": "stream",
          "text": [
            "tensor([0, 2])\n",
            "tensor([[-1.5256, -0.7502, -0.6540, -1.6095,  0.8657],\n",
            "        [ 1.7674, -0.0954,  0.0612, -0.6177, -0.7981]],\n",
            "       grad_fn=<EmbeddingBackward>)\n"
          ],
          "name": "stdout"
        }
      ]
    },
    {
      "cell_type": "markdown",
      "metadata": {
        "id": "udxzM1a7fF6D",
        "colab_type": "text"
      },
      "source": [
        "# ***Back to making our NGramLanguageModeler***"
      ]
    },
    {
      "cell_type": "code",
      "metadata": {
        "id": "7G314mu8ZJMs",
        "colab_type": "code",
        "colab": {}
      },
      "source": [
        "# we can now make our NGramLanguageModeler class which extends the nn.Module Class\n",
        "class NGramLanguageModeler(nn.Module):\n",
        "  def __init__(self, len_vocab, len_dimension, len_context):\n",
        "    super(NGramLanguageModeler, self).__init__()\n",
        "    self.embeddings = nn.Embedding(len_vocab, len_dimension)\n",
        "    self.linear1 = nn.Linear(len_context*len_dimension, 128)\n",
        "    self.linear2 = nn.Linear(128, len_vocab)\n",
        "   \n",
        "  def forward(self, inputs):\n",
        "    embeds = self.embeddings(inputs).view((1, -1))\n",
        "    out = F.relu(self.linear1(embeds))\n",
        "    out = self.linear2(out)\n",
        "    log_probs = torch.log_softmax(out, dim=1)\n",
        "    return log_probs"
      ],
      "execution_count": 0,
      "outputs": []
    },
    {
      "cell_type": "code",
      "metadata": {
        "id": "O1Gz72HBtSIV",
        "colab_type": "code",
        "colab": {}
      },
      "source": [
        "# ngram = NGramLanguageModeler(len(vocab), EMBEDDING_DIM, CONTEXT_SIZE)\n",
        "# sample_context_indxs = torch.tensor([vocab_index[word] for word in trigrams[0][0]], dtype=torch.long)\n",
        "# print(sample_context_indxs)\n",
        "# ngram.zero_grad()\n",
        "# sample_out, sample_log_prob = ngram(sample_context_indxs)\n",
        "# print(sample_out, sample_out.shape)\n",
        "# print(sample_log_prob, sample_log_prob.shape)"
      ],
      "execution_count": 0,
      "outputs": []
    },
    {
      "cell_type": "code",
      "metadata": {
        "id": "aDT_dSGKtgCk",
        "colab_type": "code",
        "colab": {
          "base_uri": "https://localhost:8080/",
          "height": 54
        },
        "outputId": "7c38ecc0-9bf7-4f99-b9f2-baa80cf5d54c"
      },
      "source": [
        "losses = []\n",
        "loss_function = nn.NLLLoss()\n",
        "model = NGramLanguageModeler(len(vocab), EMBEDDING_DIM, CONTEXT_SIZE)\n",
        "optimizer = optim.SGD(model.parameters(), lr=0.01)\n",
        "for epoch in range(100):\n",
        "  total_loss = 0\n",
        "  for context, target in trigrams:\n",
        "    lookup_tensor = torch.tensor([vocab_index[word] for word in context], dtype=torch.long)\n",
        "    model.zero_grad()\n",
        "    log_probs = model(lookup_tensor)\n",
        "    loss = loss_function(log_probs, torch.tensor([vocab_index[target]],dtype=torch.long))\n",
        "    loss.backward()\n",
        "    optimizer.step()\n",
        "    total_loss += loss.item()\n",
        "  losses.append(total_loss)\n",
        "print(losses)"
      ],
      "execution_count": 63,
      "outputs": [
        {
          "output_type": "stream",
          "text": [
            "[521.7153425216675, 495.34286093711853, 470.53120517730713, 446.51178669929504, 422.76281237602234, 398.6674540042877, 373.74221205711365, 347.8202769756317, 320.93014216423035, 293.3289177417755, 265.32080340385437, 237.4350209236145, 210.24008774757385, 184.3236062526703, 160.2390697002411, 138.34731554985046, 118.90771269798279, 102.00278830528259, 87.57696986198425, 75.43582272529602, 65.30448746681213, 56.89397835731506, 49.945801973342896, 44.19325542449951, 39.43976020812988, 35.49859809875488, 32.22602081298828, 29.481675148010254, 27.178778648376465, 25.228428840637207, 23.566755771636963, 22.13834238052368, 20.896832942962646, 19.81930637359619, 18.869718074798584, 18.03038454055786, 17.283921718597412, 16.613677501678467, 16.015938758850098, 15.470390319824219, 14.977132320404053, 14.528476238250732, 14.11613130569458, 13.738945484161377, 13.392257690429688, 13.067373752593994, 12.767804622650146, 12.492863655090332, 12.231105327606201, 11.989766120910645, 11.766092777252197, 11.54833984375, 11.351119041442871, 11.158747673034668, 10.980671405792236, 10.81063461303711, 10.650590419769287, 10.498735427856445, 10.350165367126465, 10.211718082427979, 10.079117774963379, 9.953001022338867, 9.833752632141113, 9.716536045074463, 9.60503625869751, 9.497947692871094, 9.397186756134033, 9.297039985656738, 9.203425407409668, 9.110026359558105, 9.021974563598633, 8.936666488647461, 8.853730201721191, 8.775070190429688, 8.69668960571289, 8.622819900512695, 8.549566268920898, 8.479692459106445, 8.412349700927734, 8.34679126739502, 8.282659530639648, 8.219382286071777, 8.158377647399902, 8.10012149810791, 8.041563034057617, 7.986661911010742, 7.931606292724609, 7.880889892578125, 7.828151702880859, 7.777868270874023, 7.727437973022461, 7.677508354187012, 7.629792213439941, 7.58331298828125, 7.5391740798950195, 7.493967056274414, 7.4499711990356445, 7.406377792358398, 7.365416526794434, 7.323987007141113]\n"
          ],
          "name": "stdout"
        }
      ]
    },
    {
      "cell_type": "markdown",
      "metadata": {
        "id": "Pc-bV5ao_BR8",
        "colab_type": "text"
      },
      "source": [
        "# ***Testing out the trained model with a manually input sample context***"
      ]
    },
    {
      "cell_type": "code",
      "metadata": {
        "id": "wxMETSP_7JPn",
        "colab_type": "code",
        "colab": {
          "base_uri": "https://localhost:8080/",
          "height": 340
        },
        "outputId": "5caae748-6dc4-4629-af95-205b839482f0"
      },
      "source": [
        "sample_context_indxs = torch.tensor([vocab_index[word] for word in [\"deep\", \"sunken\"]], dtype=torch.long)\n",
        "print(sample_context_indxs)\n",
        "log_probs = model(sample_context_indxs)\n",
        "print(log_probs)\n",
        "print(log_probs.max().item())\n",
        "next_word_index = (torch.abs(log_probs.max().item()-log_probs<0.0001).nonzero()[0][1].item())\n",
        "print(next_word_index)\n",
        "for key, value in vocab_index.items():\n",
        "  if value == next_word_index:\n",
        "    print(\"The third word in the trigram is probably: \", key)"
      ],
      "execution_count": 92,
      "outputs": [
        {
          "output_type": "stream",
          "text": [
            "tensor([87, 41])\n",
            "tensor([[-12.9000, -11.0517, -11.9180, -10.6109,  -9.4918,  -9.0281,  -9.4701,\n",
            "         -10.0088, -12.4749, -14.1159,  -8.1237, -11.8906, -10.4751, -12.7095,\n",
            "         -11.8933, -10.1434, -15.3022, -10.6923,  -8.8487, -10.6151, -11.6201,\n",
            "         -12.7400, -12.9318, -11.6189, -12.0235, -12.1041, -10.9124, -11.7159,\n",
            "         -11.1213, -12.0028, -13.5300, -13.2427, -10.0730, -10.7331, -12.1254,\n",
            "         -11.9699, -10.4403,  -9.4813,  -9.5169,  -8.2570, -12.5946,  -9.3512,\n",
            "         -10.2632, -10.7122,  -9.5034, -11.6179,  -9.7012, -13.3439, -11.9361,\n",
            "         -13.4708, -12.7937, -10.9641,  -9.1360, -10.8557, -11.3210, -11.7869,\n",
            "          -0.0242, -10.3778, -11.2452, -13.0966, -13.1321,  -7.4787,  -9.3193,\n",
            "          -9.0731,  -5.2724, -11.8432, -11.3245,  -8.3738, -10.7255,  -4.7463,\n",
            "          -7.4246,  -7.2568, -10.2593,  -6.9622, -10.6271,  -8.0720, -11.3145,\n",
            "         -13.7419, -10.9333, -10.6944,  -7.5264,  -6.6923, -12.4230, -13.5464,\n",
            "         -10.5582, -13.3388,  -7.4339,  -8.2530,  -6.8456, -12.9250, -12.2051,\n",
            "         -13.0324, -12.6210,  -9.5084,  -7.8838, -11.1576,  -8.8471]],\n",
            "       grad_fn=<LogSoftmaxBackward>)\n",
            "-0.024231910705566406\n",
            "56\n",
            "The third word in the trigram is probably:  eyes,\n"
          ],
          "name": "stdout"
        }
      ]
    }
  ]
}