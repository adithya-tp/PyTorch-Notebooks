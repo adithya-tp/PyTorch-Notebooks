{
  "nbformat": 4,
  "nbformat_minor": 0,
  "metadata": {
    "colab": {
      "name": "Generating Word Embeddings in pyTorch.ipynb",
      "version": "0.3.2",
      "provenance": [],
      "include_colab_link": true
    },
    "kernelspec": {
      "name": "python3",
      "display_name": "Python 3"
    }
  },
  "cells": [
    {
      "cell_type": "markdown",
      "metadata": {
        "id": "view-in-github",
        "colab_type": "text"
      },
      "source": [
        "<a href=\"https://colab.research.google.com/github/adithya-tp/PyTorch-Notebooks/blob/master/Generating_Word_Embeddings_in_pyTorch.ipynb\" target=\"_parent\"><img src=\"https://colab.research.google.com/assets/colab-badge.svg\" alt=\"Open In Colab\"/></a>"
      ]
    },
    {
      "cell_type": "code",
      "metadata": {
        "id": "v26PDTVtQNPE",
        "colab_type": "code",
        "colab": {
          "base_uri": "https://localhost:8080/",
          "height": 34
        },
        "outputId": "5dfdfa06-0f1d-4e7c-e60e-58976b6d564c"
      },
      "source": [
        "import torch\n",
        "import torch.nn as nn\n",
        "import torch.nn.functional as F\n",
        "import torch.optim as optim\n",
        "\n",
        "torch.manual_seed(1)"
      ],
      "execution_count": 2,
      "outputs": [
        {
          "output_type": "execute_result",
          "data": {
            "text/plain": [
              "<torch._C.Generator at 0x7fc9724d0e10>"
            ]
          },
          "metadata": {
            "tags": []
          },
          "execution_count": 2
        }
      ]
    },
    {
      "cell_type": "code",
      "metadata": {
        "id": "eGSzNEieQkdk",
        "colab_type": "code",
        "colab": {}
      },
      "source": [
        "# we need a dictionary that gives a unique index to each word in our vocab.\n",
        "idx_dict = {\"hello\":0, \"world\":1}\n",
        "\n",
        "# pyTorch provides an Embedding layer which takes in the vocabulary size and\n",
        "# the dimension of the dense representations, and spits out embeddings which\n",
        "# possess this dimension\n",
        "embeds = nn.Embedding(2, 5)"
      ],
      "execution_count": 0,
      "outputs": []
    },
    {
      "cell_type": "code",
      "metadata": {
        "id": "gYGVsKG2RrY_",
        "colab_type": "code",
        "colab": {
          "base_uri": "https://localhost:8080/",
          "height": 102
        },
        "outputId": "1858f2c8-9bf0-4a37-b641-54a726c21264"
      },
      "source": [
        "# let us make a tensor which when passed into \"embeds\", gives us the embedding\n",
        "# for that word.\n",
        "lookup_tensor = torch.tensor([idx_dict[\"hello\"]], dtype=torch.long)\n",
        "print(\"The lookup tensor for 'hello' is\", lookup_tensor, \"\\n\")\n",
        "hello_embedding = embeds(lookup_tensor)\n",
        "print(\"The five dimensional embedding for 'hello' is\\n\", hello_embedding)"
      ],
      "execution_count": 8,
      "outputs": [
        {
          "output_type": "stream",
          "text": [
            "The lookup tensor for 'hello' is tensor([0]) \n",
            "\n",
            "The five dimensional embedding for 'hello' is\n",
            " tensor([[ 0.6614,  0.2669,  0.0617,  0.6213, -0.4519]],\n",
            "       grad_fn=<EmbeddingBackward>)\n"
          ],
          "name": "stdout"
        }
      ]
    },
    {
      "cell_type": "code",
      "metadata": {
        "id": "Acd2jDIRSbWx",
        "colab_type": "code",
        "colab": {}
      },
      "source": [
        "\"\"\"\n",
        "And that is pretty much how you generate word embeddings for words in PyTorch!\n",
        "\"\"\""
      ],
      "execution_count": 0,
      "outputs": []
    }
  ]
}
