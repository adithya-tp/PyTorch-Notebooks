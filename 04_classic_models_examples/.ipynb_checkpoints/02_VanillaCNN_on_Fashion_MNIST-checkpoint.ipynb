{
 "cells": [
  {
   "cell_type": "markdown",
   "metadata": {},
   "source": [
    "## Classification of Fashion MNIST with a Vanilla CNN Achitecture"
   ]
  },
  {
   "cell_type": "code",
   "execution_count": 1,
   "metadata": {},
   "outputs": [],
   "source": [
    "import torch\n",
    "import torch.nn as nn\n",
    "import torch.nn.functional as F\n",
    "import torchvision.datasets as datasets\n",
    "import torchvision.transforms as transforms\n",
    "from torch.utils.data import DataLoader"
   ]
  },
  {
   "cell_type": "markdown",
   "metadata": {},
   "source": [
    "## Set up the class for our Vanilla CNN"
   ]
  },
  {
   "cell_type": "code",
   "execution_count": 16,
   "metadata": {},
   "outputs": [],
   "source": [
    "# Let us set up Vanilla CNN class.\n",
    "class VanilllaCNN(nn.Module):\n",
    "    def __init__(self, num_channels, num_classes):\n",
    "        super(VanilllaCNN, self).__init__()\n",
    "        self.conv1 = nn.Conv2d(in_channels=num_channels, out_channels=32, kernel_size=(3, 3), stride=(1, 1), padding=(1, 1))\n",
    "        # we don't define 2 max pool layes, since we could just reuse this (it just halves in size any arbitrary feature map)\n",
    "        self.max_pool = nn.MaxPool2d(kernel_size=(2, 2), stride=(2, 2))\n",
    "        self.conv2 = nn.Conv2d(in_channels=32, out_channels=64, kernel_size=(3, 3), stride=(1, 1), padding=(1, 1))\n",
    "        self.fc = nn.Linear(in_features=64*7*7, out_features=num_classes)\n",
    "    \n",
    "    def forward(self, x):\n",
    "        # we could've made the following code more compact, but optimization is not our concern right now.\n",
    "        x = F.relu(self.conv1(x))\n",
    "        x = self.max_pool(x)\n",
    "        x = F.relu(self.conv2(x))\n",
    "        x = self.max_pool(x)\n",
    "        x = x.flatten(start_dim=1)\n",
    "        x = self.fc(x)\n",
    "        return x"
   ]
  },
  {
   "cell_type": "markdown",
   "metadata": {},
   "source": [
    "#### *Sanity check for the forward pass on the network*"
   ]
  },
  {
   "cell_type": "code",
   "execution_count": 17,
   "metadata": {},
   "outputs": [
    {
     "data": {
      "text/plain": [
       "torch.Size([512, 10])"
      ]
     },
     "execution_count": 17,
     "metadata": {},
     "output_type": "execute_result"
    }
   ],
   "source": [
    "# we should set up a sanity check for our network before testing it out an actual data.\n",
    "sample_tensor = torch.randn(512, 1, 28, 28)\n",
    "sample_net = VanilllaCNN(1, 10)\n",
    "sample_net(sample_tensor).shape\n",
    "\n",
    "# Looks Good! For our batch_size of 512, we get a prediction (a vector of length 10) for each of the 512 images."
   ]
  },
  {
   "cell_type": "markdown",
   "metadata": {},
   "source": [
    "## Let's set up the training data loader that'll feed in batches of data"
   ]
  },
  {
   "cell_type": "code",
   "execution_count": 11,
   "metadata": {},
   "outputs": [],
   "source": [
    "# let us set up a data loader for our fashion mnist dataset.\n",
    "train_data = datasets.FashionMNIST(root='./data',\n",
    "                                   download=True,\n",
    "                                   train=True, \n",
    "                                   transform=transforms.Compose([\n",
    "                                       transforms.ToTensor()\n",
    "                                   ]))\n",
    "\n",
    "train_data_loader = DataLoader(dataset=train_data, \n",
    "                               shuffle=True,\n",
    "                               batch_size=512)"
   ]
  },
  {
   "cell_type": "markdown",
   "metadata": {},
   "source": [
    "## Device Assignment and Training Loop (Learning rates could fuck u up)"
   ]
  },
  {
   "cell_type": "code",
   "execution_count": 12,
   "metadata": {},
   "outputs": [],
   "source": [
    "# let us find and set up the device which we'll later assign tensor computations to\n",
    "device = 'cuda' if torch.cuda.is_available() else 'cpu'"
   ]
  },
  {
   "cell_type": "code",
   "execution_count": 18,
   "metadata": {},
   "outputs": [
    {
     "name": "stdout",
     "output_type": "stream",
     "text": [
      "Epoch: 1, loss: 0.4126792848110199\n",
      "Epoch: 2, loss: 0.2662435472011566\n",
      "Epoch: 3, loss: 0.3614051640033722\n",
      "Epoch: 4, loss: 0.31086310744285583\n",
      "Epoch: 5, loss: 0.17994926869869232\n",
      "Epoch: 6, loss: 0.23888492584228516\n",
      "Epoch: 7, loss: 0.15774111449718475\n",
      "Epoch: 8, loss: 0.1002868115901947\n",
      "Epoch: 9, loss: 0.2108091562986374\n",
      "Epoch: 10, loss: 0.2685917615890503\n",
      "Done Learning!\n"
     ]
    }
   ],
   "source": [
    "# let us set up some hyperparameters and training loop\n",
    "INPUT_CHANNELS = 1\n",
    "NUM_CLASSES = 10\n",
    "\n",
    "vanilla_cnn = VanilllaCNN(INPUT_CHANNELS, NUM_CLASSES).to(device=device)\n",
    "loss_criterion = nn.CrossEntropyLoss()\n",
    "# REALLY different results for lr=0.1, 0.01 and 0.001 (For both MNIST *and* FashionMNIST. \n",
    "# Ma boi andrew ng wasn't foolin' around!\n",
    "optimizer = torch.optim.Adam(vanilla_cnn.parameters(), lr=0.001)\n",
    "\n",
    "for epoch in range(10):\n",
    "    for idx, (data, targets) in enumerate(train_data_loader):\n",
    "        data = data.to(device=device)\n",
    "        targets = targets.to(device=device)\n",
    "        predictions = vanilla_cnn(data)\n",
    "        loss = loss_criterion(predictions, targets)\n",
    "        \n",
    "        optimizer.zero_grad()\n",
    "        loss.backward()\n",
    "        optimizer.step()\n",
    "    print(\"Epoch: {}, loss: {}\".format(epoch + 1, loss))\n",
    "print(\"Done Learning!\")"
   ]
  },
  {
   "cell_type": "markdown",
   "metadata": {},
   "source": [
    "## Testing data loader set up followed by \"Accuracy Test\""
   ]
  },
  {
   "cell_type": "code",
   "execution_count": 14,
   "metadata": {},
   "outputs": [],
   "source": [
    "# set up test data and test data loader\n",
    "test_data = datasets.FashionMNIST(root='./data', \n",
    "                                  train=False,\n",
    "                                  download=True,\n",
    "                                  transform=transforms.Compose([\n",
    "                                      transforms.ToTensor()\n",
    "                                  ]))\n",
    "\n",
    "test_data_loader = DataLoader(dataset=test_data,\n",
    "                              shuffle=True,\n",
    "                              batch_size=512)"
   ]
  },
  {
   "cell_type": "code",
   "execution_count": 19,
   "metadata": {},
   "outputs": [
    {
     "name": "stdout",
     "output_type": "stream",
     "text": [
      "tensor(9056, device='cuda:0') 10000\n",
      "Accuracy of model on the test set: 90.56\n"
     ]
    }
   ],
   "source": [
    "num_correct = 0\n",
    "num_samples = 0\n",
    "\n",
    "vanilla_cnn.eval()\n",
    "# disable gradient computation for test set\n",
    "with torch.no_grad():\n",
    "    for idx, (data, targets) in enumerate(test_data_loader):\n",
    "        data = data.to(device=device)\n",
    "        targets = targets.to(device=device)\n",
    "        outputs = vanilla_cnn(data)\n",
    "        values, idx_of_max_value = outputs.max(1)\n",
    "        num_correct += (idx_of_max_value == targets).sum()\n",
    "        num_samples += targets.shape[0]\n",
    "    print(num_correct, num_samples)\n",
    "    print(\"Accuracy of model on the test set: {}\".format((num_correct.item() / num_samples) * 100))"
   ]
  },
  {
   "cell_type": "markdown",
   "metadata": {},
   "source": [
    "## A slight increase in accuracy compared to the Vanilla FFN architecture ({87.18% v/s 90.56%} ~3.5% improvement)\n",
    "    [This makes sense, the convolution operation makes use of spatial information and therefore has\n",
    "     access to extra information that the feedforward network simply did not have]."
   ]
  }
 ],
 "metadata": {
  "kernelspec": {
   "display_name": "Python 3",
   "language": "python",
   "name": "python3"
  },
  "language_info": {
   "codemirror_mode": {
    "name": "ipython",
    "version": 3
   },
   "file_extension": ".py",
   "mimetype": "text/x-python",
   "name": "python",
   "nbconvert_exporter": "python",
   "pygments_lexer": "ipython3",
   "version": "3.6.10"
  }
 },
 "nbformat": 4,
 "nbformat_minor": 4
}
