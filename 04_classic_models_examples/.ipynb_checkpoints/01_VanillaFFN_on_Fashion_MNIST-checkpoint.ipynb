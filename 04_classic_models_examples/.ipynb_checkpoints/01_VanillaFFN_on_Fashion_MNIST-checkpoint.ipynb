{
 "cells": [
  {
   "cell_type": "markdown",
   "metadata": {},
   "source": [
    "## Classification of Fashion MNIST with a Vanilla FFN Achitecture"
   ]
  },
  {
   "cell_type": "code",
   "execution_count": 5,
   "metadata": {},
   "outputs": [],
   "source": [
    "import torch\n",
    "import torch.nn as nn\n",
    "import torch.nn.functional as F\n",
    "from torch.autograd import Variable\n",
    "from torch.utils.data import DataLoader\n",
    "from torchvision import datasets\n",
    "from torchvision.transforms import transforms"
   ]
  },
  {
   "cell_type": "markdown",
   "metadata": {},
   "source": [
    "## Set up the class for our Vanilla FFN"
   ]
  },
  {
   "cell_type": "code",
   "execution_count": 6,
   "metadata": {},
   "outputs": [],
   "source": [
    "# Build up the class for Vanilla FFN\n",
    "class VanillaFFN(nn.Module):\n",
    "    def __init__(self, input_size, num_classes):\n",
    "        super(VanillaFFN, self).__init__()\n",
    "        self.fc1 = nn.Linear(in_features=input_size, out_features=input_size // 2)\n",
    "        self.fc2 = nn.Linear(in_features=input_size // 2, out_features=num_classes)\n",
    "    \n",
    "    def forward(self, x):\n",
    "        x = x.flatten(start_dim=1)\n",
    "        x = F.relu(self.fc1(x))\n",
    "        x = F.log_softmax(self.fc2(x), dim=1)\n",
    "        return x"
   ]
  },
  {
   "cell_type": "markdown",
   "metadata": {},
   "source": [
    "#### *Sanity check for the forward pass on the network*"
   ]
  },
  {
   "cell_type": "code",
   "execution_count": 7,
   "metadata": {},
   "outputs": [
    {
     "name": "stdout",
     "output_type": "stream",
     "text": [
      "torch.Size([64, 10])\n"
     ]
    }
   ],
   "source": [
    "# model sanity_check\n",
    "sample_net = VanillaFFN(784, 10)\n",
    "print(sample_net(torch.randn(64, 784)).shape)"
   ]
  },
  {
   "cell_type": "markdown",
   "metadata": {},
   "source": [
    "## Let's set up the training data loader that'll feed in batches of data"
   ]
  },
  {
   "cell_type": "code",
   "execution_count": 8,
   "metadata": {},
   "outputs": [],
   "source": [
    "# Download Dataset\n",
    "train_data = datasets.FashionMNIST(root='./data', \n",
    "                                   train=True, \n",
    "                                   transform=transforms.Compose([\n",
    "                                       transforms.ToTensor()\n",
    "                                   ]),\n",
    "                                   download=True)\n",
    "# Set up the data loader for our training data.\n",
    "train_data_loader = DataLoader(dataset=train_data, \n",
    "                               shuffle=True,\n",
    "                               batch_size=512)"
   ]
  },
  {
   "cell_type": "code",
   "execution_count": 9,
   "metadata": {},
   "outputs": [
    {
     "name": "stdout",
     "output_type": "stream",
     "text": [
      "torch.Size([512, 1, 28, 28]) torch.Size([512])\n"
     ]
    }
   ],
   "source": [
    "# sanity check for train data loader.\n",
    "for idx, data_tuple in enumerate(train_data_loader):\n",
    "    print(data_tuple[0].shape, data_tuple[1].shape)\n",
    "    break"
   ]
  },
  {
   "cell_type": "markdown",
   "metadata": {},
   "source": [
    "## Device Assignment and Training Loop"
   ]
  },
  {
   "cell_type": "code",
   "execution_count": 10,
   "metadata": {},
   "outputs": [],
   "source": [
    "# check and setup device tensor computations should be assigned to\n",
    "device = 'cuda' if torch.cuda.is_available() else 'cpu'"
   ]
  },
  {
   "cell_type": "code",
   "execution_count": 11,
   "metadata": {},
   "outputs": [
    {
     "name": "stdout",
     "output_type": "stream",
     "text": [
      "Epoch: 1, Loss: 0.5267444252967834\n",
      "Epoch: 2, Loss: 0.5788680911064148\n",
      "Epoch: 3, Loss: 0.656249463558197\n",
      "Epoch: 4, Loss: 0.35731497406959534\n",
      "Epoch: 5, Loss: 0.38181138038635254\n",
      "Epoch: 6, Loss: 0.4821494519710541\n",
      "Epoch: 7, Loss: 0.28118789196014404\n",
      "Epoch: 8, Loss: 0.24160528182983398\n",
      "Epoch: 9, Loss: 0.39852407574653625\n",
      "Epoch: 10, Loss: 0.3136313855648041\n",
      "Learning Done!\n"
     ]
    }
   ],
   "source": [
    "INPUT_SIZE = 28 * 28\n",
    "NUM_CLASSES = 10\n",
    "\n",
    "vanilla_fnn_object = VanillaFFN(INPUT_SIZE, NUM_CLASSES)\n",
    "vanilla_fnn_object.to(device=device)\n",
    "loss_criterion = nn.CrossEntropyLoss()\n",
    "optimizer = torch.optim.Adam(vanilla_fnn_object.parameters(), lr=0.001)\n",
    "\n",
    "for epoch in range(10):\n",
    "    loss = 0\n",
    "    for iteration, (data, targets) in enumerate(train_data_loader):\n",
    "        # assign data and targets to device.\n",
    "        data = data.to(device=device)\n",
    "        targets = targets.to(device=device)\n",
    "        \n",
    "        # forward pass, compute losses, backpropagate.\n",
    "        outputs = vanilla_fnn_object(data)\n",
    "        loss = loss_criterion(outputs, targets)\n",
    "        \n",
    "        optimizer.zero_grad()\n",
    "        loss.backward()\n",
    "        optimizer.step()\n",
    "    print(\"Epoch: {}, Loss: {}\".format(epoch + 1, loss))\n",
    "print(\"Learning Done!\")"
   ]
  },
  {
   "cell_type": "markdown",
   "metadata": {},
   "source": [
    "## Testing data loader set up followed by \"Accuracy Test\""
   ]
  },
  {
   "cell_type": "code",
   "execution_count": 13,
   "metadata": {},
   "outputs": [],
   "source": [
    "# set up testing data and data loader\n",
    "test_data = datasets.FashionMNIST(root='./data',\n",
    "                                  train=False,\n",
    "                                  download=True,\n",
    "                                  transform=transforms.Compose([\n",
    "                                      transforms.ToTensor()\n",
    "                                  ]))\n",
    "\n",
    "test_data_loader = DataLoader(dataset=test_data,\n",
    "                              shuffle=True,\n",
    "                              batch_size=512)"
   ]
  },
  {
   "cell_type": "code",
   "execution_count": 14,
   "metadata": {},
   "outputs": [
    {
     "name": "stdout",
     "output_type": "stream",
     "text": [
      "tensor(8718, device='cuda:0') 10000\n",
      "Testing Accuracy of Vanilla FNN model on the FMNIST dataset: 87.18\n"
     ]
    }
   ],
   "source": [
    "# Lets check the accuracy on the testing set.\n",
    "num_correct = 0\n",
    "num_samples = 0\n",
    "vanilla_fnn_object.eval()    # to set in eval mode\n",
    "\n",
    "with torch.no_grad():\n",
    "    for iteration, (data, targets) in enumerate(test_data_loader):\n",
    "        # assign data and targets to device.\n",
    "        data = data.to(device=device)\n",
    "        targets = targets.to(device=device)\n",
    "        outputs = vanilla_fnn_object(data)\n",
    "        \n",
    "        values, index_of_max_value = outputs.max(1)\n",
    "        num_correct += (index_of_max_value == targets).sum()\n",
    "        num_samples += targets.size(0)\n",
    "    \n",
    "    print(num_correct, num_samples)\n",
    "    print(\"Testing Accuracy of Vanilla FNN model on the FMNIST dataset: {}\".format((num_correct.item() / num_samples) * 100))"
   ]
  }
 ],
 "metadata": {
  "kernelspec": {
   "display_name": "Python 3",
   "language": "python",
   "name": "python3"
  },
  "language_info": {
   "codemirror_mode": {
    "name": "ipython",
    "version": 3
   },
   "file_extension": ".py",
   "mimetype": "text/x-python",
   "name": "python",
   "nbconvert_exporter": "python",
   "pygments_lexer": "ipython3",
   "version": "3.6.10"
  }
 },
 "nbformat": 4,
 "nbformat_minor": 4
}
