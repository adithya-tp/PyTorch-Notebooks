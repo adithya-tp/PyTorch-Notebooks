{
 "cells": [
  {
   "cell_type": "markdown",
   "metadata": {},
   "source": [
    "## Vanilla AutoEncoder - As bland as they come"
   ]
  },
  {
   "cell_type": "code",
   "execution_count": 1,
   "metadata": {},
   "outputs": [],
   "source": [
    "import torch\n",
    "import torch.nn as nn\n",
    "import torchvision.datasets as vision_datasets\n",
    "import torchvision.transforms as transforms\n",
    "import torch.nn.functional as F\n",
    "import matplotlib.pyplot as plt\n",
    "from torch.utils.data import DataLoader\n",
    "%matplotlib inline"
   ]
  },
  {
   "cell_type": "markdown",
   "metadata": {},
   "source": [
    "## Set up AutoEncoder Class"
   ]
  },
  {
   "cell_type": "code",
   "execution_count": 12,
   "metadata": {},
   "outputs": [],
   "source": [
    "# lets us set up the Class to construct autoencoders\n",
    "class VanillaAutoEncoder(nn.Module):\n",
    "    def __init__(self, in_features=784):\n",
    "        super(VanillaAutoEncoder, self).__init__()\n",
    "        self.encoder = nn.Sequential(\n",
    "                            nn.Linear(in_features=in_features, out_features=100),\n",
    "                            nn.ReLU()\n",
    "                       )\n",
    "        self.decoder = nn.Sequential(\n",
    "                            nn.Linear(in_features=100, out_features=in_features),\n",
    "                            nn.ReLU()\n",
    "                       )    \n",
    "    def forward(self, x):\n",
    "        # start flattening from the first dimension.\n",
    "        print(x.shape)\n",
    "        x = x.flatten(start_dim=1)\n",
    "        x = self.encoder(x)\n",
    "        x = self.decoder(x)\n",
    "        return x"
   ]
  },
  {
   "cell_type": "markdown",
   "metadata": {},
   "source": [
    "## Set up training dataset"
   ]
  },
  {
   "cell_type": "code",
   "execution_count": 3,
   "metadata": {},
   "outputs": [],
   "source": [
    "# Now let us download the MNIST training dataset, and set up a data loader for the same.\n",
    "mnist_train = vision_datasets.MNIST(root='./data',\n",
    "                                    download=True,\n",
    "                                    train=True,\n",
    "                                    transform=transforms.Compose([\n",
    "                                        transforms.ToTensor()\n",
    "                                    ]))\n",
    "\n",
    "mnist_train_loader = DataLoader(dataset=mnist_train,\n",
    "                                shuffle=True,\n",
    "                                batch_size=6000)"
   ]
  },
  {
   "cell_type": "markdown",
   "metadata": {},
   "source": [
    "## Sanity check on loaded train data, as well as plotting "
   ]
  },
  {
   "cell_type": "code",
   "execution_count": 4,
   "metadata": {},
   "outputs": [
    {
     "data": {
      "image/png": "[encoded data removed]",
      "text/plain": [
       "<Figure size 432x288 with 1 Axes>"
      ]
     },
     "metadata": {
      "needs_background": "light"
     },
     "output_type": "display_data"
    }
   ],
   "source": [
    "# sanity check on shape of batch data, as well as image plotting\n",
    "from IPython import display\n",
    "import time\n",
    "idx = 0\n",
    "for idx, (data, target) in enumerate(mnist_train_loader):\n",
    "    if(idx == 5):\n",
    "        break\n",
    "    print(data[0].shape)\n",
    "    img = data[0].reshape(28, 28).numpy()\n",
    "    plt.imshow(img, cmap='gray')\n",
    "    display.clear_output(wait=True)\n",
    "    display.display(plt.gcf())\n",
    "    time.sleep(1.0)\n",
    "    idx += 1\n",
    "display.clear_output(wait=True)"
   ]
  },
  {
   "cell_type": "markdown",
   "metadata": {},
   "source": [
    "## Let's train our AE!\n",
    "### You should be able to see an updating plot of the AE's guess, which gets better over epochs."
   ]
  },
  {
   "cell_type": "code",
   "execution_count": 13,
   "metadata": {},
   "outputs": [
    {
     "data": {
      "image/png": "[encoded data removed]",
      "text/plain": [
       "<Figure size 432x288 with 2 Axes>"
      ]
     },
     "metadata": {},
     "output_type": "display_data"
    },
    {
     "name": "stdout",
     "output_type": "stream",
     "text": [
      "Epoch 9 completed!\n",
      "Finished Learning!\n",
      "Epoch: 1, Loss: 0.078135184943676\n",
      "Epoch: 2, Loss: 0.06376709789037704\n",
      "Epoch: 3, Loss: 0.05380377918481827\n",
      "Epoch: 4, Loss: 0.048381976783275604\n",
      "Epoch: 5, Loss: 0.04370374232530594\n",
      "Epoch: 6, Loss: 0.040695689618587494\n",
      "Epoch: 7, Loss: 0.03869903087615967\n",
      "Epoch: 8, Loss: 0.03803592175245285\n",
      "Epoch: 9, Loss: 0.0368620827794075\n",
      "Epoch: 10, Loss: 0.036466144025325775\n"
     ]
    },
    {
     "data": {
      "image/png": "[encoded data removed]",
      "text/plain": [
       "<Figure size 432x288 with 2 Axes>"
      ]
     },
     "metadata": {
      "needs_background": "light"
     },
     "output_type": "display_data"
    }
   ],
   "source": [
    "# Before we start training our network lets set up a loss function as well\n",
    "IN_FEATURES = 28 * 28\n",
    "device = 'cuda' if torch.cuda.is_available() else 'cpu'\n",
    "\n",
    "vanilla_autoencoder = VanillaAutoEncoder(in_features=IN_FEATURES).to(device=device)\n",
    "loss_criterion = nn.MSELoss()\n",
    "optimizer = torch.optim.Adam(vanilla_autoencoder.parameters(), lr=0.01)\n",
    "losses = []\n",
    "\n",
    "# We are now ready to train\n",
    "for epoch in range(10):\n",
    "    for _, (data, _) in enumerate(mnist_train_loader):\n",
    "        data = data.to(device=device)\n",
    "        original_image = data.flatten(start_dim=1).to(device=device)\n",
    "        outputs = vanilla_autoencoder(data)\n",
    "        loss = loss_criterion(outputs, original_image)\n",
    "        \n",
    "        optimizer.zero_grad()\n",
    "        loss.backward()\n",
    "        optimizer.step()\n",
    "        \n",
    "        # put the following piece of \"plotting\" code inside or outside \n",
    "        # this loop depending on how frequently you'd like to see\n",
    "        # the autoencoders' progress.\n",
    "        \n",
    "        ############################################################\n",
    "        actual = data[0].detach().reshape(28, 28).cpu().numpy()\n",
    "        plt.subplot(1, 2, 1)\n",
    "        plt.title('Original Image')\n",
    "        plt.imshow(actual, cmap='gray')\n",
    "\n",
    "        img = outputs[0].detach().reshape(28, 28).cpu().numpy()\n",
    "        plt.subplot(1, 2, 2)\n",
    "        plt.title('Autoencoder\\'s Guess')\n",
    "        plt.imshow(img, cmap='gray')\n",
    "\n",
    "        display.clear_output(wait=True)\n",
    "        display.display(plt.gcf())\n",
    "        time.sleep(0.001)\n",
    "        ############################################################\n",
    "    losses.append(loss)\n",
    "    print(\"Epoch {} completed!\".format(epoch))\n",
    "print(\"Finished Learning!\")\n",
    "for idx, loss in enumerate(losses):\n",
    "    print(\"Epoch: {}, Loss: {}\".format(idx + 1, loss))"
   ]
  },
  {
   "cell_type": "markdown",
   "metadata": {},
   "source": [
    "## Lets try it out on the test dataset now"
   ]
  },
  {
   "cell_type": "code",
   "execution_count": 15,
   "metadata": {},
   "outputs": [],
   "source": [
    "# lets set up the test dataset and pass in an image through our trained autoencoder.\n",
    "mnist_test = vision_datasets.MNIST(root='./data',\n",
    "                                   train=False,\n",
    "                                   download=True,\n",
    "                                   transform=transforms.Compose([\n",
    "                                       transforms.ToTensor()\n",
    "                                   ]))\n",
    "\n",
    "mnist_test_loader = DataLoader(dataset=mnist_test, \n",
    "                               shuffle=True,\n",
    "                               batch_size=1)"
   ]
  },
  {
   "cell_type": "code",
   "execution_count": 16,
   "metadata": {},
   "outputs": [],
   "source": [
    "# Rerun this cell to try out a different image.\n",
    "test_image = next(iter(mnist_test_loader))[0]"
   ]
  },
  {
   "cell_type": "code",
   "execution_count": 17,
   "metadata": {},
   "outputs": [
    {
     "name": "stdout",
     "output_type": "stream",
     "text": [
      "torch.Size([1, 1, 28, 28])\n"
     ]
    },
    {
     "data": {
      "image/png": "[encoded data removed]",
      "text/plain": [
       "<Figure size 432x288 with 2 Axes>"
      ]
     },
     "metadata": {
      "needs_background": "light"
     },
     "output_type": "display_data"
    }
   ],
   "source": [
    "# Get the neural net's guess on what the original image is.\n",
    "test_image = test_image.to(device=device)\n",
    "outputs = vanilla_autoencoder(test_image)\n",
    "\n",
    "test_image_reshaped = test_image.reshape(28, 28).cpu().numpy()\n",
    "plt.subplot(1, 2, 1)\n",
    "plt.title('Original Image')\n",
    "plt.imshow(test_image_reshaped, cmap='gray')\n",
    "\n",
    "img = outputs[0].detach().reshape(28, 28).cpu().numpy()\n",
    "plt.subplot(1, 2, 2)\n",
    "plt.title('Autoencoder\\'s Guess of the original image')\n",
    "plt.imshow(img, cmap='gray')\n",
    "\n",
    "plt.show()"
   ]
  },
  {
   "cell_type": "markdown",
   "metadata": {},
   "source": [
    "## Let us now use our encoder weights as a starting point for a classification task using an MLP"
   ]
  },
  {
   "cell_type": "markdown",
   "metadata": {},
   "source": [
    "    We can create this MLP (while conserving the encoder weights) simply by replacing the decoder, with a linear layer with 10 outputs."
   ]
  },
  {
   "cell_type": "code",
   "execution_count": 18,
   "metadata": {},
   "outputs": [
    {
     "data": {
      "text/plain": [
       "VanillaAutoEncoder(\n",
       "  (encoder): Sequential(\n",
       "    (0): Linear(in_features=784, out_features=100, bias=True)\n",
       "    (1): ReLU()\n",
       "  )\n",
       "  (decoder): Sequential(\n",
       "    (0): Linear(in_features=100, out_features=784, bias=True)\n",
       "    (1): ReLU()\n",
       "  )\n",
       ")"
      ]
     },
     "execution_count": 18,
     "metadata": {},
     "output_type": "execute_result"
    }
   ],
   "source": [
    "vanilla_autoencoder"
   ]
  },
  {
   "cell_type": "code",
   "execution_count": 37,
   "metadata": {},
   "outputs": [
    {
     "data": {
      "text/plain": [
       "Sequential(\n",
       "  (0): Sequential(\n",
       "    (0): Linear(in_features=784, out_features=100, bias=True)\n",
       "    (1): ReLU()\n",
       "  )\n",
       "  (classifier): Linear(in_features=100, out_features=10, bias=True)\n",
       "  (softmax): LogSoftmax()\n",
       ")"
      ]
     },
     "execution_count": 37,
     "metadata": {},
     "output_type": "execute_result"
    }
   ],
   "source": [
    "# lets take everything from our initial network except for the last layer\n",
    "\n",
    "trained_encoder_net = nn.Sequential(*list(vanilla_autoencoder.children())[:-1])\n",
    "trained_encoder_net.add_module('classifier', nn.Linear(in_features=100, out_features=10))\n",
    "trained_encoder_net.add_module('softmax', nn.LogSoftmax(dim=1))\n",
    "trained_encoder_net.to(device=device)\n",
    "trained_encoder_net"
   ]
  },
  {
   "cell_type": "markdown",
   "metadata": {},
   "source": [
    "## Training our \"smart\" initialized MLP"
   ]
  },
  {
   "cell_type": "code",
   "execution_count": 38,
   "metadata": {},
   "outputs": [
    {
     "data": {
      "text/plain": [
       "torch.Size([128, 10])"
      ]
     },
     "execution_count": 38,
     "metadata": {},
     "output_type": "execute_result"
    }
   ],
   "source": [
    "# sanity check on forward pass of new network\n",
    "trained_encoder_net(torch.randn(128, 1, 28, 28).flatten(start_dim=1).to(device=device)).shape"
   ]
  },
  {
   "cell_type": "code",
   "execution_count": 39,
   "metadata": {},
   "outputs": [
    {
     "name": "stdout",
     "output_type": "stream",
     "text": [
      "Finished Epoch: 1 !, Loss: 0.036466144025325775\n",
      "Finished Epoch: 2 !, Loss: 0.036466144025325775\n",
      "Finished Epoch: 3 !, Loss: 0.036466144025325775\n",
      "Finished Learning!\n"
     ]
    }
   ],
   "source": [
    "# Before we start training our network lets set up a loss function as well\n",
    "classification_loss_criterion = nn.CrossEntropyLoss()\n",
    "classification_optimizer = torch.optim.Adam(trained_encoder_net.parameters(), lr=0.01)\n",
    "\n",
    "# We are now ready to train (but we will do less number of epochs since we have good weights to start off)\n",
    "for epoch in range(3):\n",
    "    for _, (data, targets) in enumerate(mnist_train_loader):\n",
    "        data = data.to(device=device)\n",
    "        targets = targets.to(device=device)\n",
    "        outputs = trained_encoder_net(data.flatten(start_dim=1))\n",
    "        classification_loss = classification_loss_criterion(outputs, targets)\n",
    "        \n",
    "        classification_optimizer.zero_grad()\n",
    "        classification_loss.backward()\n",
    "        classification_optimizer.step()\n",
    "    \n",
    "    print(\"Finished Epoch: {} !, Loss: {}\".format(epoch + 1, loss))\n",
    "print(\"Finished Learning!\")"
   ]
  }
 ],
 "metadata": {
  "kernelspec": {
   "display_name": "Python 3",
   "language": "python",
   "name": "python3"
  },
  "language_info": {
   "codemirror_mode": {
    "name": "ipython",
    "version": 3
   },
   "file_extension": ".py",
   "mimetype": "text/x-python",
   "name": "python",
   "nbconvert_exporter": "python",
   "pygments_lexer": "ipython3",
   "version": "3.6.10"
  }
 },
 "nbformat": 4,
 "nbformat_minor": 4
}
